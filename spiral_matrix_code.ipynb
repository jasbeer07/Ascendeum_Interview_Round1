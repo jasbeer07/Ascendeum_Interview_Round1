{
  "nbformat": 4,
  "nbformat_minor": 0,
  "metadata": {
    "colab": {
      "provenance": []
    },
    "kernelspec": {
      "name": "python3",
      "display_name": "Python 3"
    },
    "language_info": {
      "name": "python"
    }
  },
  "cells": [
    {
      "cell_type": "code",
      "execution_count": 6,
      "metadata": {
        "colab": {
          "base_uri": "https://localhost:8080/"
        },
        "id": "-pJpfabLyrPx",
        "outputId": "5fad1065-81f8-428d-9525-e9fac9187d15"
      },
      "outputs": [
        {
          "output_type": "stream",
          "name": "stdout",
          "text": [
            "Enter the number4\n",
            "[1, 2, 3, 4]\n",
            "[12, 13, 14, 5]\n",
            "[11, 16, 15, 6]\n",
            "[10, 9, 8, 7]\n"
          ]
        }
      ],
      "source": [
        "def spiral(n):\n",
        "  mat = [[0]*n for _ in range(n)]\n",
        "  top = 0\n",
        "  left = 0\n",
        "  bottom = n-1\n",
        "  right = n-1\n",
        "\n",
        "  current_value = 1\n",
        "\n",
        "  while top<=bottom and left<=right:\n",
        "    for col in range(left, right+1):\n",
        "      mat[top][col]=current_value\n",
        "      current_value+=1\n",
        "\n",
        "    top+=1\n",
        "\n",
        "    for row in range(top, bottom+1):\n",
        "      mat[row][right] = current_value\n",
        "      current_value+=1\n",
        "\n",
        "    right-=1\n",
        "\n",
        "    if top<=bottom:\n",
        "      for col in range(right, left-1, -1):\n",
        "        mat[bottom][col]=current_value\n",
        "        current_value+=1\n",
        "\n",
        "      bottom-=1\n",
        "\n",
        "    if left<=right:\n",
        "      for row in range(bottom, top-1, -1):\n",
        "        mat[row][left]=current_value\n",
        "        current_value+=1\n",
        "\n",
        "      left+=1\n",
        "\n",
        "  return mat\n",
        "\n",
        "\n",
        "n = int(input(\"Enter the number\"))\n",
        "res = spiral(n)\n",
        "\n",
        "for row in res:\n",
        "  print(row)"
      ]
    },
    {
      "cell_type": "code",
      "source": [],
      "metadata": {
        "id": "A2EZrHEP1jpx"
      },
      "execution_count": 4,
      "outputs": []
    }
  ]
}